{
 "cells": [
  {
   "cell_type": "markdown",
   "id": "4d3f35f3-450a-403d-a877-4ac0a271da5f",
   "metadata": {},
   "source": [
    "# Data Science Tools and Ecosystem"
   ]
  },
  {
   "cell_type": "markdown",
   "id": "d3c105ff-03d3-4e3c-a103-0de65fec922d",
   "metadata": {},
   "source": [
    "In this notebook, Data Science Tools and Ecosystem are summarized"
   ]
  },
  {
   "cell_type": "markdown",
   "id": "1456d506-4122-4695-afb9-8e4bc810507d",
   "metadata": {},
   "source": [
    "**Objectives:** \n",
    "\n",
    "* Describe the components of a Data Scientist's toolkit and list various tool categories.\n",
    "* List examples of open-source tools used in data science.\n",
    "* Describe the relevant features of open-source tools.\n",
    "* List examples of commercial and cloud-based data science tools."
   ]
  },
  {
   "cell_type": "markdown",
   "id": "cd5d2e52-08b5-4522-8f7b-e78a990f42e6",
   "metadata": {},
   "source": [
    "Some of the popular languages that Data Scientists use are:\n",
    "1. Python\n",
    "2. R\n",
    "3. SQL"
   ]
  },
  {
   "cell_type": "markdown",
   "id": "1ba6f47e-402f-46fc-b8f2-95410db21ba9",
   "metadata": {
    "tags": []
   },
   "source": [
    "Some of the commonly used libraries used by Data Scientists include:\n",
    "\n",
    "    1.Sklearn\n",
    "    2.Keras\n",
    "    3.TensorFlow"
   ]
  },
  {
   "cell_type": "markdown",
   "id": "56fd3428-8a32-4b5d-9cb2-812b7b5e206e",
   "metadata": {},
   "source": [
    "|Data Science Tools|\n",
    "|------------------|\n",
    "|Jupyter Notebooks|\n",
    "|RStudio|\n",
    "|Apache Zeppelin|\n"
   ]
  },
  {
   "cell_type": "markdown",
   "id": "45ea5056-5b6d-4a7c-861a-081093113bc5",
   "metadata": {},
   "source": [
    "### Below are a few examples of evaluating arithmetic expressions in Python"
   ]
  },
  {
   "cell_type": "code",
   "execution_count": 2,
   "id": "2e57187f-1936-48ca-b181-043fc3ebacf2",
   "metadata": {
    "tags": []
   },
   "outputs": [
    {
     "data": {
      "text/plain": [
       "17"
      ]
     },
     "execution_count": 2,
     "metadata": {},
     "output_type": "execute_result"
    }
   ],
   "source": [
    "# This is a simple arithmetic expression to multiply then add integer\n",
    "(3*4)+5"
   ]
  },
  {
   "cell_type": "code",
   "execution_count": 3,
   "id": "eb9d9a5e-d89f-47cc-834c-74eb59a82bc0",
   "metadata": {
    "tags": []
   },
   "outputs": [
    {
     "data": {
      "text/plain": [
       "3.3333333333333335"
      ]
     },
     "execution_count": 3,
     "metadata": {},
     "output_type": "execute_result"
    }
   ],
   "source": [
    "# This will convert 200 minutes to hours by dividing by 60\n",
    "200/60"
   ]
  },
  {
   "cell_type": "markdown",
   "id": "453a5a8f-129f-4415-9d27-549a8bcf0fe5",
   "metadata": {},
   "source": [
    "## Author\n",
    "\n",
    "Lampros Velentzas"
   ]
  }
 ],
 "metadata": {
  "kernelspec": {
   "display_name": "Python 3 (ipykernel)",
   "language": "python",
   "name": "python3"
  },
  "language_info": {
   "codemirror_mode": {
    "name": "ipython",
    "version": 3
   },
   "file_extension": ".py",
   "mimetype": "text/x-python",
   "name": "python",
   "nbconvert_exporter": "python",
   "pygments_lexer": "ipython3",
   "version": "3.11.5"
  }
 },
 "nbformat": 4,
 "nbformat_minor": 5
}
